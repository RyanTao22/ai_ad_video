{
 "cells": [
  {
   "cell_type": "code",
   "execution_count": 2,
   "id": "45f521c3",
   "metadata": {},
   "outputs": [],
   "source": [
    "import pandas as pd"
   ]
  },
  {
   "cell_type": "code",
   "execution_count": null,
   "id": "4aef1f6a",
   "metadata": {},
   "outputs": [],
   "source": [
    "ea = pd.read_excel('EA.xlsx',index_col=0)"
   ]
  },
  {
   "cell_type": "code",
   "execution_count": null,
   "id": "1971f015",
   "metadata": {},
   "outputs": [],
   "source": [
    "stat = ea.ticker.value_counts()"
   ]
  },
  {
   "cell_type": "code",
   "execution_count": null,
   "id": "9dd163b8",
   "metadata": {},
   "outputs": [],
   "source": [
    "stat.to_csv('stat.csv')"
   ]
  },
  {
   "cell_type": "code",
   "execution_count": 3,
   "id": "ef8888d6",
   "metadata": {},
   "outputs": [],
   "source": [
    "script = '''[Scene: last 5 seconds: A young woman walks confidently down a bustling city street, wearing stylish blue jeans.]  \n",
    "Narrator: Looking to redefine your everyday style?  \n",
    "\n",
    "[Scene: last 5 seconds: The woman stops by a modern café, the camera focusing on the perfect fit of the jeans.]  \n",
    "Narrator: Our blue jeans are designed for both comfort and elegance.  \n",
    "\n",
    "[Scene: last 5 seconds: She sits at a café, sipping a coffee, crossing her legs which show off the jeans effortlessly.]  \n",
    "Narrator: Made with the finest denim, they'll shape to your body like a second skin.  \n",
    "\n",
    "[Scene: last 5 seconds: The woman stands up and continues her walk, catching envious glances from passersby.]  \n",
    "Narrator: Ready to turn heads wherever you go?  \n",
    "\n",
    "[Scene: last 5 seconds: The camera zooms in on her jeans, highlighting the intricate stitching and quality fabric.]  \n",
    "Narrator: Discover the perfect pair of blue jeans.  \n",
    "\n",
    "[Scene: last 5 seconds: The woman smiles confidently as she walks into the sunset, the brand logo appearing on the screen.]  \n",
    "Narrator: Elevate your style—choose the best.'''"
   ]
  },
  {
   "cell_type": "code",
   "execution_count": 4,
   "id": "a8333e7a",
   "metadata": {},
   "outputs": [],
   "source": [
    "import re\n",
    "pattern = r'\\[Scene: last (\\d+) seconds: (.*?)\\]'\n",
    "\n",
    "# Find all matches\n",
    "matches = re.findall(pattern, script+'\\n')\n",
    "\n",
    "# Format the results as required\n",
    "formatted_results = [[int(seconds), description] for seconds, description in matches]\n",
    "\n"
   ]
  },
  {
   "cell_type": "code",
   "execution_count": 5,
   "id": "61034fce",
   "metadata": {},
   "outputs": [],
   "source": [
    "pattern = r'(?:\\[Narrator\\]?[:]?|Narrator:)\\s*([^\\[]*)'\n",
    "narrator_paragraphs = re.findall(pattern, script+'\\n', re.DOTALL | re.MULTILINE)\n",
    "script_res = '\\n'.join(paragraph.strip() for paragraph in narrator_paragraphs )\n",
    "sentences = script_res.splitlines()"
   ]
  },
  {
   "cell_type": "code",
   "execution_count": 6,
   "id": "e0845b87",
   "metadata": {},
   "outputs": [
    {
     "data": {
      "text/plain": [
       "['Looking to redefine your everyday style?',\n",
       " 'Our blue jeans are designed for both comfort and elegance.',\n",
       " \"Made with the finest denim, they'll shape to your body like a second skin.\",\n",
       " 'Ready to turn heads wherever you go?',\n",
       " 'Discover the perfect pair of blue jeans.',\n",
       " 'Elevate your style—choose the best.']"
      ]
     },
     "execution_count": 6,
     "metadata": {},
     "output_type": "execute_result"
    }
   ],
   "source": [
    "sentences"
   ]
  },
  {
   "cell_type": "code",
   "execution_count": 7,
   "id": "d2fb0f3b",
   "metadata": {},
   "outputs": [],
   "source": [
    "pattern = r'(?:\\[Narrator\\]?[:]?|Narrator:)\\s*([^\\[]*)'\n",
    "narrator_paragraphs = re.findall(pattern, script+'\\n', re.DOTALL | re.MULTILINE)\n",
    "script = '\\n'.join(paragraph.strip() for paragraph in narrator_paragraphs )"
   ]
  },
  {
   "cell_type": "code",
   "execution_count": 8,
   "id": "d37ab955",
   "metadata": {},
   "outputs": [
    {
     "name": "stderr",
     "output_type": "stream",
     "text": [
      "c:\\Users\\57792\\anaconda3\\envs\\streamlit\\Lib\\site-packages\\pydub\\utils.py:170: RuntimeWarning: Couldn't find ffmpeg or avconv - defaulting to ffmpeg, but may not work\n",
      "  warn(\"Couldn't find ffmpeg or avconv - defaulting to ffmpeg, but may not work\", RuntimeWarning)\n"
     ]
    }
   ],
   "source": [
    "import requests\n",
    "#import ffmpeg\n",
    "# import sys\n",
    "# sys.path.append('/Users/xiyuantao/Desktop/ffprobe')\n",
    "from pydub import AudioSegment\n",
    "import io"
   ]
  },
  {
   "cell_type": "code",
   "execution_count": 10,
   "id": "ef0da191",
   "metadata": {},
   "outputs": [],
   "source": [
    "model_url = \"https://api.elevenlabs.io/v1/text-to-speech/Mu5jxyqZOLIGltFpfalg/with-timestamps\"\n",
    "\n",
    "payload = {\n",
    "    \"voice_settings\": {\n",
    "        \"similarity_boost\": 0.8,\n",
    "        \"stability\": 0.3\n",
    "    },\n",
    "    \"text\": script\n",
    "}\n",
    "headers = {\n",
    "    \"xi-api-key\": \"81274497562cc26cda36b0b55d215eb2\",\n",
    "    \"Content-Type\": \"application/json\"\n",
    "}\n",
    "response_audio = requests.request(\"POST\", model_url, json=payload, headers=headers)"
   ]
  },
  {
   "cell_type": "code",
   "execution_count": 11,
   "id": "98527269",
   "metadata": {},
   "outputs": [],
   "source": [
    "import json\n",
    "import base64\n",
    "#import ffprobe"
   ]
  },
  {
   "cell_type": "code",
   "execution_count": 12,
   "id": "d71490a2",
   "metadata": {},
   "outputs": [],
   "source": [
    "json_string = response_audio.content.decode(\"utf-8\")\n",
    "response_dict = json.loads(json_string)\n",
    "audio_bytes = base64.b64decode(response_dict[\"audio_base64\"])"
   ]
  },
  {
   "cell_type": "code",
   "execution_count": null,
   "id": "f11ea827",
   "metadata": {},
   "outputs": [],
   "source": [
    "sys.path"
   ]
  },
  {
   "cell_type": "code",
   "execution_count": 8,
   "id": "30cd8d01",
   "metadata": {},
   "outputs": [],
   "source": [
    "from pydub import AudioSegment\n",
    "import sys\n",
    "sys.path.append('/Users/xiyuantao/Desktop/ffprobe')\n",
    "sys.path.append('/Users/xiyuantao/Desktop/streamlit/streamlit/ffmpeg')\n",
    "\n",
    "import io"
   ]
  },
  {
   "cell_type": "code",
   "execution_count": 13,
   "id": "cd02e967",
   "metadata": {},
   "outputs": [
    {
     "ename": "FileNotFoundError",
     "evalue": "[Errno 2] No such file or directory: 'ffprobe'",
     "output_type": "error",
     "traceback": [
      "\u001b[0;31m---------------------------------------------------------------------------\u001b[0m",
      "\u001b[0;31mFileNotFoundError\u001b[0m                         Traceback (most recent call last)",
      "Cell \u001b[0;32mIn[13], line 1\u001b[0m\n\u001b[0;32m----> 1\u001b[0m original_audio \u001b[38;5;241m=\u001b[39m AudioSegment\u001b[38;5;241m.\u001b[39mfrom_file(io\u001b[38;5;241m.\u001b[39mBytesIO(audio_bytes), \u001b[38;5;28mformat\u001b[39m\u001b[38;5;241m=\u001b[39m\u001b[38;5;124m\"\u001b[39m\u001b[38;5;124mmp3\u001b[39m\u001b[38;5;124m\"\u001b[39m)\n",
      "File \u001b[0;32m~/anaconda3/lib/python3.11/site-packages/pydub/audio_segment.py:728\u001b[0m, in \u001b[0;36mAudioSegment.from_file\u001b[0;34m(cls, file, format, codec, parameters, start_second, duration, **kwargs)\u001b[0m\n\u001b[1;32m    726\u001b[0m     info \u001b[38;5;241m=\u001b[39m \u001b[38;5;28;01mNone\u001b[39;00m\n\u001b[1;32m    727\u001b[0m \u001b[38;5;28;01melse\u001b[39;00m:\n\u001b[0;32m--> 728\u001b[0m     info \u001b[38;5;241m=\u001b[39m mediainfo_json(orig_file, read_ahead_limit\u001b[38;5;241m=\u001b[39mread_ahead_limit)\n\u001b[1;32m    729\u001b[0m \u001b[38;5;28;01mif\u001b[39;00m info:\n\u001b[1;32m    730\u001b[0m     audio_streams \u001b[38;5;241m=\u001b[39m [x \u001b[38;5;28;01mfor\u001b[39;00m x \u001b[38;5;129;01min\u001b[39;00m info[\u001b[38;5;124m'\u001b[39m\u001b[38;5;124mstreams\u001b[39m\u001b[38;5;124m'\u001b[39m]\n\u001b[1;32m    731\u001b[0m                      \u001b[38;5;28;01mif\u001b[39;00m x[\u001b[38;5;124m'\u001b[39m\u001b[38;5;124mcodec_type\u001b[39m\u001b[38;5;124m'\u001b[39m] \u001b[38;5;241m==\u001b[39m \u001b[38;5;124m'\u001b[39m\u001b[38;5;124maudio\u001b[39m\u001b[38;5;124m'\u001b[39m]\n",
      "File \u001b[0;32m~/anaconda3/lib/python3.11/site-packages/pydub/utils.py:274\u001b[0m, in \u001b[0;36mmediainfo_json\u001b[0;34m(filepath, read_ahead_limit)\u001b[0m\n\u001b[1;32m    271\u001b[0m         file\u001b[38;5;241m.\u001b[39mclose()\n\u001b[1;32m    273\u001b[0m command \u001b[38;5;241m=\u001b[39m [prober, \u001b[38;5;124m'\u001b[39m\u001b[38;5;124m-of\u001b[39m\u001b[38;5;124m'\u001b[39m, \u001b[38;5;124m'\u001b[39m\u001b[38;5;124mjson\u001b[39m\u001b[38;5;124m'\u001b[39m] \u001b[38;5;241m+\u001b[39m command_args\n\u001b[0;32m--> 274\u001b[0m res \u001b[38;5;241m=\u001b[39m Popen(command, stdin\u001b[38;5;241m=\u001b[39mstdin_parameter, stdout\u001b[38;5;241m=\u001b[39mPIPE, stderr\u001b[38;5;241m=\u001b[39mPIPE)\n\u001b[1;32m    275\u001b[0m output, stderr \u001b[38;5;241m=\u001b[39m res\u001b[38;5;241m.\u001b[39mcommunicate(\u001b[38;5;28minput\u001b[39m\u001b[38;5;241m=\u001b[39mstdin_data)\n\u001b[1;32m    276\u001b[0m output \u001b[38;5;241m=\u001b[39m output\u001b[38;5;241m.\u001b[39mdecode(\u001b[38;5;124m\"\u001b[39m\u001b[38;5;124mutf-8\u001b[39m\u001b[38;5;124m\"\u001b[39m, \u001b[38;5;124m'\u001b[39m\u001b[38;5;124mignore\u001b[39m\u001b[38;5;124m'\u001b[39m)\n",
      "File \u001b[0;32m~/anaconda3/lib/python3.11/subprocess.py:1026\u001b[0m, in \u001b[0;36mPopen.__init__\u001b[0;34m(self, args, bufsize, executable, stdin, stdout, stderr, preexec_fn, close_fds, shell, cwd, env, universal_newlines, startupinfo, creationflags, restore_signals, start_new_session, pass_fds, user, group, extra_groups, encoding, errors, text, umask, pipesize, process_group)\u001b[0m\n\u001b[1;32m   1022\u001b[0m         \u001b[38;5;28;01mif\u001b[39;00m \u001b[38;5;28mself\u001b[39m\u001b[38;5;241m.\u001b[39mtext_mode:\n\u001b[1;32m   1023\u001b[0m             \u001b[38;5;28mself\u001b[39m\u001b[38;5;241m.\u001b[39mstderr \u001b[38;5;241m=\u001b[39m io\u001b[38;5;241m.\u001b[39mTextIOWrapper(\u001b[38;5;28mself\u001b[39m\u001b[38;5;241m.\u001b[39mstderr,\n\u001b[1;32m   1024\u001b[0m                     encoding\u001b[38;5;241m=\u001b[39mencoding, errors\u001b[38;5;241m=\u001b[39merrors)\n\u001b[0;32m-> 1026\u001b[0m     \u001b[38;5;28mself\u001b[39m\u001b[38;5;241m.\u001b[39m_execute_child(args, executable, preexec_fn, close_fds,\n\u001b[1;32m   1027\u001b[0m                         pass_fds, cwd, env,\n\u001b[1;32m   1028\u001b[0m                         startupinfo, creationflags, shell,\n\u001b[1;32m   1029\u001b[0m                         p2cread, p2cwrite,\n\u001b[1;32m   1030\u001b[0m                         c2pread, c2pwrite,\n\u001b[1;32m   1031\u001b[0m                         errread, errwrite,\n\u001b[1;32m   1032\u001b[0m                         restore_signals,\n\u001b[1;32m   1033\u001b[0m                         gid, gids, uid, umask,\n\u001b[1;32m   1034\u001b[0m                         start_new_session, process_group)\n\u001b[1;32m   1035\u001b[0m \u001b[38;5;28;01mexcept\u001b[39;00m:\n\u001b[1;32m   1036\u001b[0m     \u001b[38;5;66;03m# Cleanup if the child failed starting.\u001b[39;00m\n\u001b[1;32m   1037\u001b[0m     \u001b[38;5;28;01mfor\u001b[39;00m f \u001b[38;5;129;01min\u001b[39;00m \u001b[38;5;28mfilter\u001b[39m(\u001b[38;5;28;01mNone\u001b[39;00m, (\u001b[38;5;28mself\u001b[39m\u001b[38;5;241m.\u001b[39mstdin, \u001b[38;5;28mself\u001b[39m\u001b[38;5;241m.\u001b[39mstdout, \u001b[38;5;28mself\u001b[39m\u001b[38;5;241m.\u001b[39mstderr)):\n",
      "File \u001b[0;32m~/anaconda3/lib/python3.11/subprocess.py:1950\u001b[0m, in \u001b[0;36mPopen._execute_child\u001b[0;34m(self, args, executable, preexec_fn, close_fds, pass_fds, cwd, env, startupinfo, creationflags, shell, p2cread, p2cwrite, c2pread, c2pwrite, errread, errwrite, restore_signals, gid, gids, uid, umask, start_new_session, process_group)\u001b[0m\n\u001b[1;32m   1948\u001b[0m     \u001b[38;5;28;01mif\u001b[39;00m errno_num \u001b[38;5;241m!=\u001b[39m \u001b[38;5;241m0\u001b[39m:\n\u001b[1;32m   1949\u001b[0m         err_msg \u001b[38;5;241m=\u001b[39m os\u001b[38;5;241m.\u001b[39mstrerror(errno_num)\n\u001b[0;32m-> 1950\u001b[0m     \u001b[38;5;28;01mraise\u001b[39;00m child_exception_type(errno_num, err_msg, err_filename)\n\u001b[1;32m   1951\u001b[0m \u001b[38;5;28;01mraise\u001b[39;00m child_exception_type(err_msg)\n",
      "\u001b[0;31mFileNotFoundError\u001b[0m: [Errno 2] No such file or directory: 'ffprobe'"
     ]
    }
   ],
   "source": [
    "original_audio = AudioSegment.from_file(io.BytesIO(audio_bytes), format=\"mp3\")"
   ]
  },
  {
   "cell_type": "code",
   "execution_count": null,
   "id": "4101eabe",
   "metadata": {},
   "outputs": [],
   "source": [
    "json_string = response.content.decode(\"utf-8\")\n",
    "\n",
    "# parse the JSON string and load the data as a dictionary\n",
    "response_dict = json.loads(json_string)"
   ]
  },
  {
   "cell_type": "code",
   "execution_count": null,
   "id": "041a8b41",
   "metadata": {},
   "outputs": [],
   "source": [
    "response_dict.content"
   ]
  },
  {
   "cell_type": "code",
   "execution_count": null,
   "id": "ac71b2b3",
   "metadata": {},
   "outputs": [],
   "source": [
    "# Calculate timestamps for each sentence\n",
    "sentence_timestamps = []\n",
    "sentence_start_time = 0\n",
    "sentences = script.splitlines()\n",
    "char_index = 0\n",
    "\n",
    "for sentence in sentences:\n",
    "    print(response_dict['alignment']['characters'][char_index:char_index + len(sentence) - 1])\n",
    "    sentence_start_time = response_dict['alignment']['character_start_times_seconds'][char_index]\n",
    "    sentence_end_time = response_dict['alignment']['character_end_times_seconds'][char_index + len(sentence) - 1]\n",
    "    duration = sentence_end_time - sentence_start_time\n",
    "    sentence_timestamps.append(duration)\n",
    "    char_index += len(sentence) + 1  # +1 to account for the newline character\n",
    "\n",
    "# Upload Audio to OSS\n",
    "\n"
   ]
  },
  {
   "cell_type": "code",
   "execution_count": null,
   "id": "17b8bd46",
   "metadata": {},
   "outputs": [],
   "source": [
    "script"
   ]
  },
  {
   "cell_type": "code",
   "execution_count": null,
   "id": "20aee970",
   "metadata": {},
   "outputs": [],
   "source": [
    "sentence_timestamps"
   ]
  },
  {
   "cell_type": "code",
   "execution_count": null,
   "id": "dc52ed34",
   "metadata": {},
   "outputs": [],
   "source": [
    "sentence_timestamps = []\n",
    "sentence_start_time = 0\n",
    "sentences = script.splitlines()\n",
    "char_index = 0\n",
    "\n",
    "for sentence in sentences:\n",
    "    sentence_start_time = response_dict['character_start_times_seconds'][char_index]\n",
    "    sentence_end_time = response_dict['character_end_times_seconds'][char_index + len(sentence) - 1]\n",
    "    duration = sentence_end_time - sentence_start_time\n",
    "    sentence_timestamps.append(duration)\n",
    "    char_index += len(sentence) + 1  # +1 to account for the newline character"
   ]
  },
  {
   "cell_type": "code",
   "execution_count": null,
   "id": "bd2dcd22",
   "metadata": {},
   "outputs": [],
   "source": [
    "from pydub import AudioSegment\n",
    "import io\n",
    "\n",
    "\n",
    "pattern = r'(?:\\[Narrator\\]?[:]?|Narrator:)\\s*([^\\[]*)'\n",
    "narrator_paragraphs = re.findall(pattern, st.session_state.script+'\\n', re.DOTALL | re.MULTILINE)\n",
    "script = '\\n'.join(paragraph.strip() for paragraph in narrator_paragraphs )\n",
    "\n",
    "# Generate Audio with elevenlabs\n",
    "model_url = \"https://api.elevenlabs.io/v1/text-to-speech/Mu5jxyqZOLIGltFpfalg/with-timestamps\"\n",
    "\n",
    "payload = {\n",
    "    \"voice_settings\": {\n",
    "        \"similarity_boost\": 0.8,\n",
    "        \"stability\": 0.3\n",
    "    },\n",
    "    \"text\": script\n",
    "}\n",
    "headers = {\n",
    "    \"xi-api-key\": st.secrets['elevenlabs_key'],\n",
    "    \"Content-Type\": \"application/json\"\n",
    "}\n",
    "response_audio = requests.request(\"POST\", model_url, json=payload, headers=headers)\n",
    "\n",
    "# Error handling\n",
    "if response_audio.status_code != 200:\n",
    "    st.error(f\"Error generating audio: {response_audio.status_code} - {response_audio.text}\")\n",
    "    return\n",
    "\n",
    "response_dict = response_audio.json()\n",
    "\n",
    "# Process audio and timestamps\n",
    "audio_bytes = base64.b64decode(response_dict[\"audio_base64\"])\n",
    "original_audio = AudioSegment.from_file(io.BytesIO(audio_bytes), format=\"mp3\")\n",
    "\n",
    "sentence_timestamps = []\n",
    "char_index = 0\n",
    "\n",
    "new_audio = AudioSegment.silent(duration=0)  # Start with an empty audio segment\n",
    "\n",
    "for sentence in script.splitlines():\n",
    "    sentence_start_time = response_dict['character_start_times_seconds'][char_index]\n",
    "    sentence_end_time = response_dict['character_end_times_seconds'][char_index + len(sentence) - 1]\n",
    "    duration = sentence_end_time - sentence_start_time\n",
    "    sentence_timestamps.append(duration)\n",
    "\n",
    "    # Extract the audio for this sentence\n",
    "    start_ms = sentence_start_time * 1000\n",
    "    end_ms = sentence_end_time * 1000\n",
    "    sentence_audio = original_audio[start_ms:end_ms]\n",
    "\n",
    "    # Calculate the silence duration needed to make the total 5 seconds\n",
    "    silence_duration = max(0, 5000 - int(duration * 1000))\n",
    "\n",
    "    # Add sentence audio and then add the calculated silence\n",
    "    new_audio += sentence_audio + AudioSegment.silent(duration=silence_duration)\n",
    "\n",
    "    char_index += len(sentence) + 1  # +1 to account for the newline character\n",
    "\n",
    "# Save the modified audio\n",
    "audio_name = time.strftime(\"%Y%m%d%H%M%S\") + str(random.randint(1, 100)) + '_with_silence.mp3'\n",
    "new_audio.export(audio_name, format=\"mp3\")\n",
    "with open(audio_name, \"rb\") as f:\n",
    "    oss_bucket.put_object(audio_name, f.read())\n",
    "\n",
    "time.sleep(2)\n",
    "st.session_state.audio_dict = {\n",
    "    'audio_name': audio_name,\n",
    "    'audio_url': oss_bucket.sign_url('GET', audio_name, 180),\n",
    "    'narrator_timestamp': sentence_timestamps,\n",
    "}\n"
   ]
  }
 ],
 "metadata": {
  "kernelspec": {
   "display_name": "Python 3 (ipykernel)",
   "language": "python",
   "name": "python3"
  },
  "language_info": {
   "codemirror_mode": {
    "name": "ipython",
    "version": 3
   },
   "file_extension": ".py",
   "mimetype": "text/x-python",
   "name": "python",
   "nbconvert_exporter": "python",
   "pygments_lexer": "ipython3",
   "version": "3.12.4"
  }
 },
 "nbformat": 4,
 "nbformat_minor": 5
}
